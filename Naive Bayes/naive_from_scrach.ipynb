{
 "cells": [
  {
   "cell_type": "code",
   "execution_count": 5,
   "metadata": {},
   "outputs": [],
   "source": [
    "import pandas as pd\n",
    "import numpy as np\n",
    "import seaborn as sns\n",
    "import matplotlib.pyplot as plt\n",
    "from sklearn.model_selection import train_test_split"
   ]
  },
  {
   "cell_type": "code",
   "execution_count": 6,
   "metadata": {},
   "outputs": [],
   "source": [
    "df = pd.read_csv(\n",
    "    r\"/home/ahmed/Ai/Ml-algorithms-from-scratch-and-scikit-learn-in-python-/DataSets/Breast_cancer_data.csv\"\n",
    ")"
   ]
  },
  {
   "cell_type": "code",
   "execution_count": 17,
   "metadata": {},
   "outputs": [
    {
     "data": {
      "image/png": "[encoded data removed]",
      "text/plain": [
       "<Figure size 640x480 with 1 Axes>"
      ]
     },
     "metadata": {},
     "output_type": "display_data"
    }
   ],
   "source": [
    "plt.pie(\n",
    "    df[\"diagnosis\"].value_counts(),\n",
    "    labels=df[\"diagnosis\"].value_counts().index,\n",
    "    autopct=\"%3.2f%%\",\n",
    ")\n",
    "plt.show()"
   ]
  },
  {
   "cell_type": "markdown",
   "metadata": {},
   "source": [
    "# Calculate P(Y) for all possible classes\n"
   ]
  },
  {
   "cell_type": "code",
   "execution_count": 39,
   "metadata": {},
   "outputs": [],
   "source": [
    "def Prior(df=pd.DataFrame(), Y=\"\"):\n",
    "    prior, classes = [], sorted(list(df[Y].unique()))\n",
    "    for i in classes:\n",
    "        P_i = len(df[df[Y] == i]) / len(df)\n",
    "        prior.append(P_i)\n",
    "    return prior"
   ]
  },
  {
   "cell_type": "markdown",
   "metadata": {},
   "source": [
    "# Calculate P(X|Y) using Gaussian dist.\n"
   ]
  },
  {
   "cell_type": "code",
   "execution_count": 113,
   "metadata": {},
   "outputs": [],
   "source": [
    "def Likelihood(df, feature, value, Y, label):\n",
    "    data = df[df[Y] == label]\n",
    "\n",
    "    mean, std = data[feature].mean(), data[feature].std()\n",
    "    P_xi_y = (1 / np.sqrt(2 * np.pi * std**2)) * np.exp(\n",
    "        -(((value - mean) ** 2) / (2 * std**2))\n",
    "    )\n",
    "    return P_xi_y"
   ]
  },
  {
   "cell_type": "markdown",
   "metadata": {},
   "source": [
    "# Calculate P(X=x1|Y=y)P(X=x2|Y=y)...P(X=xn|Y=y) \\* P(Y=y) for all y and find the maximum\n"
   ]
  },
  {
   "cell_type": "code",
   "execution_count": 114,
   "metadata": {},
   "outputs": [],
   "source": [
    "def Gaussian_Naive_Bayes(X_train, X_test, Y):\n",
    "    features = list(X_train.columns)[:-1]\n",
    "    y_pred = []\n",
    "\n",
    "    for x in X_test:\n",
    "\n",
    "        labels = sorted(list(X_train[Y].unique()))\n",
    "        likelihood = list([1] * len(labels))\n",
    "\n",
    "        for j in range(len(labels)):\n",
    "            for i in range(len(features)):\n",
    "                likelihood[j] *= Likelihood(X_train, features[i], x[i], Y, labels[j])\n",
    "\n",
    "        prior = Prior(X_train, Y)\n",
    "        proba = [1] * len(labels)\n",
    "\n",
    "        for P in range(len(prior)):\n",
    "            proba[P] = likelihood[P] * prior[P]\n",
    "        y_pred.append(np.argmax(proba))\n",
    "\n",
    "    return np.array(y_pred)"
   ]
  },
  {
   "cell_type": "code",
   "execution_count": 117,
   "metadata": {},
   "outputs": [
    {
     "data": {
      "text/plain": [
       "array([1, 0, 0, 1, 1, 0, 0, 0, 1, 1, 1, 0, 1, 0, 1, 0, 1, 1, 1, 0, 1, 1,\n",
       "       0, 1, 1, 1, 1, 1, 1, 0, 1, 1, 1, 1, 1, 1, 0, 1, 0, 1, 1, 0, 1, 1,\n",
       "       1, 1, 1, 1, 1, 1, 0, 0, 1, 1, 1, 1, 1, 0, 1, 1, 1, 0, 0, 1, 1, 1,\n",
       "       0, 0, 1, 1, 1, 0, 1, 0, 1, 1, 1, 1, 1, 1, 0, 1, 1, 0, 0, 0, 1, 0,\n",
       "       1, 1, 1, 1, 1, 1, 1, 1, 0, 0, 1, 0, 0, 1, 0, 0, 1, 1, 1, 0, 1, 1,\n",
       "       0, 1, 1, 0])"
      ]
     },
     "execution_count": 117,
     "metadata": {},
     "output_type": "execute_result"
    }
   ],
   "source": [
    "train, test = train_test_split(\n",
    "    df,\n",
    "    test_size=0.2,\n",
    "    random_state=42,\n",
    ")\n",
    "\n",
    "x_test = test.iloc[:, :-1].values\n",
    "y_test = test.iloc[:, -1].values\n",
    "\n",
    "\n",
    "Y_pred = Gaussian_Naive_Bayes(train, x_test, \"diagnosis\")\n",
    "Y_pred"
   ]
  },
  {
   "cell_type": "code",
   "execution_count": 118,
   "metadata": {},
   "outputs": [
    {
     "name": "stdout",
     "output_type": "stream",
     "text": [
      "[[37  6]\n",
      " [ 0 71]]\n",
      "0.9594594594594594\n"
     ]
    }
   ],
   "source": [
    "from sklearn.metrics import confusion_matrix, f1_score\n",
    "\n",
    "print(confusion_matrix(y_test, Y_pred))\n",
    "print(f1_score(y_test, Y_pred))"
   ]
  },
  {
   "cell_type": "code",
   "execution_count": null,
   "metadata": {},
   "outputs": [],
   "source": []
  }
 ],
 "metadata": {
  "kernelspec": {
   "display_name": "Python 3",
   "language": "python",
   "name": "python3"
  },
  "language_info": {
   "codemirror_mode": {
    "name": "ipython",
    "version": 3
   },
   "file_extension": ".py",
   "mimetype": "text/x-python",
   "name": "python",
   "nbconvert_exporter": "python",
   "pygments_lexer": "ipython3",
   "version": "3.10.12"
  }
 },
 "nbformat": 4,
 "nbformat_minor": 2
}
