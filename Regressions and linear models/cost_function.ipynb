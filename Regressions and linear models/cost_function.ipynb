{
 "cells": [
  {
   "cell_type": "code",
   "execution_count": 8,
   "metadata": {},
   "outputs": [],
   "source": [
    "import pandas as pd\n",
    "import numpy as np\n",
    "import matplotlib.pyplot as plt"
   ]
  },
  {
   "cell_type": "markdown",
   "metadata": {},
   "source": [
    "## Goals\n",
    "\n",
    "- will implement and explore the `cost` function for linear regression with one variable.\n"
   ]
  },
  {
   "cell_type": "markdown",
   "metadata": {},
   "source": [
    "## Problem Statement\n",
    "\n",
    "Given a simple data set, with 2 features size and price of house\n",
    "fit a linear regressinn modle that pridict price for other houses\n",
    "\n",
    "| Size (1000 sqft) | Price (1000s of dollars) |\n",
    "| ---------------- | ------------------------ |\n",
    "| 1                | 300                      |\n",
    "| 2                | 500                      |\n"
   ]
  },
  {
   "cell_type": "markdown",
   "metadata": {},
   "source": [
    "## Computing Cost\n",
    "\n",
    "The equation for cost with one variable is:\n",
    "$$J(w,b) = \\frac{1}{2m} \\sum\\limits_{i = 0}^{m-1} (f_{w,b}(x^{(i)}) - y^{(i)})^2 \\tag{1}$$\n",
    "\n",
    "where\n",
    "$$f_{w,b}(x^{(i)}) = wx^{(i)} + b \\tag{2}$$\n"
   ]
  },
  {
   "cell_type": "code",
   "execution_count": 2,
   "metadata": {},
   "outputs": [],
   "source": [
    "x_train = np.array([1.0, 2.0])  # (size in 1000 square feet)\n",
    "y_train = np.array([300.0, 500.0])  # (price in 1000s of dollars)"
   ]
  },
  {
   "cell_type": "code",
   "execution_count": 3,
   "metadata": {},
   "outputs": [],
   "source": [
    "def f_wb(x_i, w, b):\n",
    "    predict = x_i * w + b\n",
    "    return predict"
   ]
  },
  {
   "cell_type": "code",
   "execution_count": 4,
   "metadata": {},
   "outputs": [],
   "source": [
    "def compute_cost(x, y, w, b):\n",
    "    m = x_train.shape[0]\n",
    "\n",
    "    cost, total_cost = 0, 0.0\n",
    "    for i in range(m):\n",
    "        cost += (f_wb(x[i], w, b) - y[i]) ** 2\n",
    "    total_cost = (1 / (2 * m)) * cost\n",
    "\n",
    "    return total_cost"
   ]
  },
  {
   "cell_type": "code",
   "execution_count": 5,
   "metadata": {},
   "outputs": [
    {
     "name": "stdout",
     "output_type": "stream",
     "text": [
      "total error of f_wb =  4050.0\n"
     ]
    }
   ],
   "source": [
    "print(\"total error of f_wb = \", compute_cost(x=x_train, y=y_train, w=200, b=10))"
   ]
  },
  {
   "cell_type": "code",
   "execution_count": 6,
   "metadata": {},
   "outputs": [
    {
     "name": "stdout",
     "output_type": "stream",
     "text": [
      "optimal error of f_wb =  0.0\n"
     ]
    }
   ],
   "source": [
    "print(\"optimal error of f_wb = \", compute_cost(x=x_train, y=y_train, w=200, b=100))"
   ]
  },
  {
   "cell_type": "code",
   "execution_count": 7,
   "metadata": {},
   "outputs": [
    {
     "name": "stdout",
     "output_type": "stream",
     "text": [
      "total error of f_wb =  1850.0\n"
     ]
    }
   ],
   "source": [
    "x_train = np.array([1.0, 1.7, 2.0, 2.5, 3.0, 3.2])\n",
    "y_train = np.array(\n",
    "    [\n",
    "        250,\n",
    "        300,\n",
    "        480,\n",
    "        430,\n",
    "        630,\n",
    "        730,\n",
    "    ]\n",
    ")\n",
    "\n",
    "print(\"total error of f_wb = \", compute_cost(x=x_train, y=y_train, w=200, b=10))"
   ]
  }
 ],
 "metadata": {
  "kernelspec": {
   "display_name": "Python 3",
   "language": "python",
   "name": "python3"
  },
  "language_info": {
   "codemirror_mode": {
    "name": "ipython",
    "version": 3
   },
   "file_extension": ".py",
   "mimetype": "text/x-python",
   "name": "python",
   "nbconvert_exporter": "python",
   "pygments_lexer": "ipython3",
   "version": "3.10.12"
  }
 },
 "nbformat": 4,
 "nbformat_minor": 2
}
