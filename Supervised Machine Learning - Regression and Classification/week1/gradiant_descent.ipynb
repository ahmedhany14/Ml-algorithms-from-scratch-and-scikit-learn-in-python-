{
 "cells": [
  {
   "cell_type": "code",
   "execution_count": 1,
   "metadata": {},
   "outputs": [
    {
     "name": "stderr",
     "output_type": "stream",
     "text": [
      "/tmp/ipykernel_30960/2151744951.py:1: DeprecationWarning: \n",
      "Pyarrow will become a required dependency of pandas in the next major release of pandas (pandas 3.0),\n",
      "(to allow more performant data types, such as the Arrow string type, and better interoperability with other libraries)\n",
      "but was not found to be installed on your system.\n",
      "If this would cause problems for you,\n",
      "please provide us feedback at https://github.com/pandas-dev/pandas/issues/54466\n",
      "        \n",
      "  import pandas as pd\n"
     ]
    }
   ],
   "source": [
    "import pandas as pd\n",
    "import numpy as np\n",
    "import matplotlib.pyplot as plt"
   ]
  },
  {
   "cell_type": "code",
   "execution_count": 2,
   "metadata": {},
   "outputs": [],
   "source": [
    "df = pd.read_csv(r'/home/ahmed/Ai/datasets/ml_data/archive (1)/Salary_Data.csv')\n",
    "df\n",
    "x_train , y_train = list(df['YearsExperience']), list(df['Salary'])"
   ]
  },
  {
   "cell_type": "code",
   "execution_count": 3,
   "metadata": {},
   "outputs": [
    {
     "data": {
      "image/png": "[encoded data removed]",
      "text/plain": [
       "<Figure size 640x480 with 1 Axes>"
      ]
     },
     "metadata": {},
     "output_type": "display_data"
    }
   ],
   "source": [
    "plt.scatter(\n",
    "    x_train,\n",
    "    y_train,\n",
    "    marker = '.',\n",
    ")\n",
    "plt.show()"
   ]
  },
  {
   "cell_type": "code",
   "execution_count": 4,
   "metadata": {},
   "outputs": [],
   "source": [
    "'''\n",
    "x -> x_train\n",
    "y -> y_train\n",
    "\n",
    "w, b -> model parametars\n",
    "Computing the cost of the model in case selecting parametars (w, b)\n",
    "'''\n",
    "def cost_compute(x, y, w, b):\n",
    "\n",
    "    cost_i , total_cost, n = 0, 0, len(x)\n",
    "\n",
    "    for i in range(n):\n",
    "        cost_i = ((w * x[i] + b) - y[i]) ** 2\n",
    "        total_cost += cost_i\n",
    "    \n",
    "    total_cost = total_cost * (1 / (2 * n))\n",
    "\n",
    "    return total_cost    "
   ]
  },
  {
   "cell_type": "code",
   "execution_count": 5,
   "metadata": {},
   "outputs": [],
   "source": [
    "'''\n",
    "Calculate the derivative part of the grediant desent\n",
    "where:\n",
    "\n",
    "d_dw_i is result of derivative part in w equation\n",
    "d_db_i is result of derivative part in b equation\n",
    "\n",
    "'''\n",
    "\n",
    "def compute_gradient(x, y, w, b): # just derivative part\n",
    "    \n",
    "    n = len(x)\n",
    "    \n",
    "    d_dw, d_db = 0, 0\n",
    "    \n",
    "    for i in range(n):\n",
    "        f_wb = w * x[i] + b\n",
    "        \n",
    "        d_dw_i = (f_wb - y[i]) * x[i]\n",
    "        d_db_i = f_wb - y[i]\n",
    "        \n",
    "        d_dw += d_dw_i\n",
    "        d_db += d_db_i\n",
    "    \n",
    "    d_db /= n\n",
    "    d_dw /= n\n",
    "    return d_dw, d_db\n"
   ]
  },
  {
   "cell_type": "code",
   "execution_count": 6,
   "metadata": {},
   "outputs": [],
   "source": [
    "\n",
    "\n",
    "def gradiant_descent(x, y, w_int, b_int, alpha, iterations):\n",
    "\n",
    "    j_function = [0]\n",
    "    all_parameters = [0]\n",
    "    \n",
    "    w = w_int\n",
    "    b = b_int\n",
    "    \n",
    "    for i in range(iterations + 1):\n",
    "        \n",
    "        di_dw, di_db = compute_gradient(x, y,w, b)\n",
    "\n",
    "        b = b - alpha * di_db\n",
    "        w = w - alpha * di_dw\n",
    "    \n",
    "        j_function.append(cost_compute(x, y, w, b))\n",
    "        all_parameters.append([w, b])\n",
    "        if i % 100 == 0 :\n",
    "            print(f\"iteration {i}:  cost {j_function[-1]}:  w {w}:   b {b}:  d_dw {di_dw}:    d_db {di_db}\")\n",
    "\n",
    "    return w, b, j_function, all_parameters\n",
    "    "
   ]
  },
  {
   "cell_type": "code",
   "execution_count": 7,
   "metadata": {},
   "outputs": [
    {
     "ename": "NameError",
     "evalue": "name 'compute_gredient' is not defined",
     "output_type": "error",
     "traceback": [
      "\u001b[0;31m---------------------------------------------------------------------------\u001b[0m",
      "\u001b[0;31mNameError\u001b[0m                                 Traceback (most recent call last)",
      "Cell \u001b[0;32mIn[7], line 7\u001b[0m\n\u001b[1;32m      3\u001b[0m iterations \u001b[38;5;241m=\u001b[39m \u001b[38;5;241m100000\u001b[39m\n\u001b[1;32m      4\u001b[0m temp_alpha \u001b[38;5;241m=\u001b[39m \u001b[38;5;241m1.0e-2\u001b[39m\n\u001b[0;32m----> 7\u001b[0m w_final, b_final, j, par \u001b[38;5;241m=\u001b[39m \u001b[43mgradiant_descent\u001b[49m\u001b[43m(\u001b[49m\u001b[43mx_train\u001b[49m\u001b[43m,\u001b[49m\u001b[43m \u001b[49m\u001b[43my_train\u001b[49m\u001b[43m,\u001b[49m\u001b[43m \u001b[49m\u001b[43mw_init\u001b[49m\u001b[43m,\u001b[49m\u001b[43m \u001b[49m\u001b[43mb_init\u001b[49m\u001b[43m,\u001b[49m\u001b[43m \u001b[49m\u001b[43mtemp_alpha\u001b[49m\u001b[43m,\u001b[49m\u001b[43m \u001b[49m\u001b[43miterations\u001b[49m\u001b[43m)\u001b[49m\n\u001b[1;32m      9\u001b[0m \u001b[38;5;28mprint\u001b[39m(\u001b[38;5;124mf\u001b[39m\u001b[38;5;124m\"\u001b[39m\u001b[38;5;124m(w,b) found by gradient descent: (\u001b[39m\u001b[38;5;132;01m{\u001b[39;00mw_final\u001b[38;5;132;01m:\u001b[39;00m\u001b[38;5;124m8.4f\u001b[39m\u001b[38;5;132;01m}\u001b[39;00m\u001b[38;5;124m,\u001b[39m\u001b[38;5;132;01m{\u001b[39;00mb_final\u001b[38;5;132;01m:\u001b[39;00m\u001b[38;5;124m8.4f\u001b[39m\u001b[38;5;132;01m}\u001b[39;00m\u001b[38;5;124m)\u001b[39m\u001b[38;5;124m\"\u001b[39m)\n",
      "Cell \u001b[0;32mIn[6], line 11\u001b[0m, in \u001b[0;36mgradiant_descent\u001b[0;34m(x, y, w_int, b_int, alpha, iterations)\u001b[0m\n\u001b[1;32m      7\u001b[0m b \u001b[38;5;241m=\u001b[39m b_int\n\u001b[1;32m      9\u001b[0m \u001b[38;5;28;01mfor\u001b[39;00m i \u001b[38;5;129;01min\u001b[39;00m \u001b[38;5;28mrange\u001b[39m(iterations \u001b[38;5;241m+\u001b[39m \u001b[38;5;241m1\u001b[39m):\n\u001b[0;32m---> 11\u001b[0m     di_dw, di_db \u001b[38;5;241m=\u001b[39m \u001b[43mcompute_gredient\u001b[49m(x, y,w, b)\n\u001b[1;32m     13\u001b[0m     b \u001b[38;5;241m=\u001b[39m b \u001b[38;5;241m-\u001b[39m alpha \u001b[38;5;241m*\u001b[39m di_db\n\u001b[1;32m     14\u001b[0m     w \u001b[38;5;241m=\u001b[39m w \u001b[38;5;241m-\u001b[39m alpha \u001b[38;5;241m*\u001b[39m di_dw\n",
      "\u001b[0;31mNameError\u001b[0m: name 'compute_gredient' is not defined"
     ]
    }
   ],
   "source": [
    "w_init = 0\n",
    "b_init = 0\n",
    "iterations = 100000\n",
    "temp_alpha = 1.0e-2\n",
    "\n",
    "\n",
    "w_final, b_final, j, par = gradiant_descent(x_train, y_train, w_init, b_init, temp_alpha, iterations)\n",
    "\n",
    "print(f\"(w,b) found by gradient descent: ({w_final:8.4f},{b_final:8.4f})\")"
   ]
  },
  {
   "cell_type": "code",
   "execution_count": null,
   "metadata": {},
   "outputs": [],
   "source": [
    "def calculate_predicted_values(x_train, w, b):\n",
    "    m = len(x_train)\n",
    "    f_wb = [0] * m\n",
    "   \n",
    "    for i in range(m):\n",
    "        f_wb[i] = w * x_train[i] + b\n",
    "    return f_wb\n",
    " \n",
    "f_wb = calculate_predicted_values(x_train, w_final, b_final)"
   ]
  },
  {
   "cell_type": "code",
   "execution_count": null,
   "metadata": {},
   "outputs": [
    {
     "data": {
      "image/png": "[encoded data removed]",
      "text/plain": [
       "<Figure size 640x480 with 1 Axes>"
      ]
     },
     "metadata": {},
     "output_type": "display_data"
    }
   ],
   "source": [
    "plt.scatter(\n",
    "    x = x_train,\n",
    "    y = y_train,\n",
    "    color='red',\n",
    "    marker='.',\n",
    "    label = 'Actual Values'\n",
    ")\n",
    "\n",
    "plt.plot(\n",
    "    x_train,\n",
    "    f_wb,\n",
    "    color = 'blue',\n",
    "    label = 'Predict values'\n",
    ")\n",
    "\n",
    "plt.legend()\n",
    "plt.show()"
   ]
  },
  {
   "cell_type": "code",
   "execution_count": null,
   "metadata": {},
   "outputs": [],
   "source": []
  }
 ],
 "metadata": {
  "kernelspec": {
   "display_name": "Python 3",
   "language": "python",
   "name": "python3"
  },
  "language_info": {
   "codemirror_mode": {
    "name": "ipython",
    "version": 3
   },
   "file_extension": ".py",
   "mimetype": "text/x-python",
   "name": "python",
   "nbconvert_exporter": "python",
   "pygments_lexer": "ipython3",
   "version": "3.10.12"
  }
 },
 "nbformat": 4,
 "nbformat_minor": 2
}
