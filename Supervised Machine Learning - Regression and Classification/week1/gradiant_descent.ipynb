{
 "cells": [
  {
   "cell_type": "code",
   "execution_count": 26,
   "metadata": {},
   "outputs": [],
   "source": [
    "import pandas as pd\n",
    "import numpy as np\n",
    "import matplotlib.pyplot as plt\n",
    "plt.style.use('./deeplearning.mplstyle')"
   ]
  },
  {
   "cell_type": "code",
   "execution_count": 27,
   "metadata": {},
   "outputs": [],
   "source": [
    "df = pd.read_csv(r'/home/ahmed/Ai/datasets/ml_data/archive (1)/Salary_Data.csv')\n",
    "df\n",
    "x_train , y_train = list(df['YearsExperience']), list(df['Salary'])"
   ]
  },
  {
   "cell_type": "code",
   "execution_count": 28,
   "metadata": {},
   "outputs": [
    {
     "data": {
      "image/png": "[encoded data removed]",
      "text/plain": [
       "<Figure size 640x480 with 1 Axes>"
      ]
     },
     "metadata": {},
     "output_type": "display_data"
    }
   ],
   "source": [
    "plt.scatter(\n",
    "    x_train,\n",
    "    y_train,\n",
    "    marker = '.',\n",
    ")\n",
    "plt.show()"
   ]
  },
  {
   "cell_type": "code",
   "execution_count": 29,
   "metadata": {},
   "outputs": [],
   "source": [
    "'''\n",
    "x -> x_train\n",
    "y -> y_train\n",
    "\n",
    "w, b -> model parametars\n",
    "Computing the cost of the model in case selecting parametars (w, b)\n",
    "'''\n",
    "def cost_compute(x, y, w, b):\n",
    "\n",
    "    cost_i , total_cost, n = 0, 0, len(x)\n",
    "\n",
    "    for i in range(n):\n",
    "        cost_i = ((w * x[i] + b) - y[i]) ** 2\n",
    "        total_cost += cost_i\n",
    "    \n",
    "    total_cost = total_cost * (1 / (2 * n))\n",
    "\n",
    "    return total_cost    "
   ]
  },
  {
   "cell_type": "code",
   "execution_count": 30,
   "metadata": {},
   "outputs": [],
   "source": [
    "'''\n",
    "Calculate the derivative part of the grediant desent\n",
    "where:\n",
    "\n",
    "d_dw_i is result of derivative part in w equation\n",
    "d_db_i is result of derivative part in b equation\n",
    "\n",
    "'''\n",
    "\n",
    "def compute_gradient(x, y, w, b): # just derivative part\n",
    "    \n",
    "    n = len(x)\n",
    "    \n",
    "    d_dw, d_db = 0, 0\n",
    "    \n",
    "    for i in range(n):\n",
    "        f_wb = w * x[i] + b\n",
    "        \n",
    "        d_dw_i = (f_wb - y[i]) * x[i]\n",
    "        d_db_i = f_wb - y[i]\n",
    "        \n",
    "        d_dw += d_dw_i\n",
    "        d_db += d_db_i\n",
    "    \n",
    "    d_db /= n\n",
    "    d_dw /= n\n",
    "    return d_dw, d_db\n"
   ]
  },
  {
   "cell_type": "code",
   "execution_count": 31,
   "metadata": {},
   "outputs": [],
   "source": [
    "\n",
    "\n",
    "def gradiant_descent(x, y, w_int, b_int, alpha, iterations):\n",
    "\n",
    "    j_function = [0]\n",
    "    all_parameters = [0]\n",
    "    \n",
    "    w = w_int\n",
    "    b = b_int\n",
    "    \n",
    "    for i in range(iterations + 1):\n",
    "        \n",
    "        di_dw, di_db = compute_gradient(x, y,w, b)\n",
    "\n",
    "        b = b - alpha * di_db\n",
    "        w = w - alpha * di_dw\n",
    "    \n",
    "        j_function.append(cost_compute(x, y, w, b))\n",
    "        all_parameters.append([w, b])\n",
    "        if i % 10000 == 0 :\n",
    "            print(f\"iteration {i}:  cost {j_function[-1]}:  w {w}:   b {b}:  d_dw {di_dw}:    d_db {di_db}\")\n",
    "\n",
    "    return w, b, j_function, all_parameters\n",
    "    "
   ]
  },
  {
   "cell_type": "code",
   "execution_count": 32,
   "metadata": {},
   "outputs": [
    {
     "name": "stdout",
     "output_type": "stream",
     "text": [
      "iteration 0:  cost 1344612525.8413548:  w 4773.987:   b 760.03:  d_dw -477398.7:    d_db -76003.0\n",
      "iteration 10000:  cost 15635475.861140488:  w 9449.962323705007:   b 25792.200183507008:  d_dw 4.769215593114496e-07:    d_db -3.2138513536968577e-06\n",
      "iteration 20000:  cost 15635475.861140482:  w 9449.96232145521:   b 25792.2001986678:  d_dw 7.639755494892597e-11:    d_db -1.8165640843411285e-10\n"
     ]
    },
    {
     "name": "stdout",
     "output_type": "stream",
     "text": [
      "iteration 30000:  cost 15635475.861140482:  w 9449.96232145521:   b 25792.2001986678:  d_dw 7.639755494892597e-11:    d_db -1.8165640843411285e-10\n",
      "iteration 40000:  cost 15635475.861140482:  w 9449.96232145521:   b 25792.2001986678:  d_dw 7.639755494892597e-11:    d_db -1.8165640843411285e-10\n",
      "iteration 50000:  cost 15635475.861140482:  w 9449.96232145521:   b 25792.2001986678:  d_dw 7.639755494892597e-11:    d_db -1.8165640843411285e-10\n",
      "iteration 60000:  cost 15635475.861140482:  w 9449.96232145521:   b 25792.2001986678:  d_dw 7.639755494892597e-11:    d_db -1.8165640843411285e-10\n",
      "iteration 70000:  cost 15635475.861140482:  w 9449.96232145521:   b 25792.2001986678:  d_dw 7.639755494892597e-11:    d_db -1.8165640843411285e-10\n",
      "iteration 80000:  cost 15635475.861140482:  w 9449.96232145521:   b 25792.2001986678:  d_dw 7.639755494892597e-11:    d_db -1.8165640843411285e-10\n",
      "iteration 90000:  cost 15635475.861140482:  w 9449.96232145521:   b 25792.2001986678:  d_dw 7.639755494892597e-11:    d_db -1.8165640843411285e-10\n",
      "iteration 100000:  cost 15635475.861140482:  w 9449.96232145521:   b 25792.2001986678:  d_dw 7.639755494892597e-11:    d_db -1.8165640843411285e-10\n",
      "(w,b) found by gradient descent: (9449.9623,25792.2002)\n"
     ]
    }
   ],
   "source": [
    "w_init = 0\n",
    "b_init = 0\n",
    "iterations = 100000\n",
    "temp_alpha = 1.0e-2\n",
    "\n",
    "\n",
    "w_final, b_final, j, par = gradiant_descent(x_train, y_train, w_init, b_init, temp_alpha, iterations)\n",
    "\n",
    "print(f\"(w,b) found by gradient descent: ({w_final:8.4f},{b_final:8.4f})\")"
   ]
  },
  {
   "cell_type": "code",
   "execution_count": 33,
   "metadata": {},
   "outputs": [],
   "source": [
    "def calculate_predicted_values(x_train, w, b):\n",
    "    m = len(x_train)\n",
    "    f_wb = [0] * m\n",
    "   \n",
    "    for i in range(m):\n",
    "        f_wb[i] = w * x_train[i] + b\n",
    "    return f_wb\n",
    " \n",
    "f_wb = calculate_predicted_values(x_train, w_final, b_final)"
   ]
  },
  {
   "cell_type": "code",
   "execution_count": 34,
   "metadata": {},
   "outputs": [
    {
     "data": {
      "image/png": "[encoded data removed]",
      "text/plain": [
       "<Figure size 640x480 with 1 Axes>"
      ]
     },
     "metadata": {},
     "output_type": "display_data"
    }
   ],
   "source": [
    "plt.scatter(\n",
    "    x = x_train,\n",
    "    y = y_train,\n",
    "    color='red',\n",
    "    marker='.',\n",
    "    label = 'Actual Values'\n",
    ")\n",
    "\n",
    "plt.plot(\n",
    "    x_train,\n",
    "    f_wb,\n",
    "    color = 'blue',\n",
    "    label = 'Predict values'\n",
    ")\n",
    "\n",
    "plt.legend()\n",
    "plt.show()"
   ]
  },
  {
   "cell_type": "code",
   "execution_count": null,
   "metadata": {},
   "outputs": [],
   "source": []
  }
 ],
 "metadata": {
  "kernelspec": {
   "display_name": "Python 3",
   "language": "python",
   "name": "python3"
  },
  "language_info": {
   "codemirror_mode": {
    "name": "ipython",
    "version": 3
   },
   "file_extension": ".py",
   "mimetype": "text/x-python",
   "name": "python",
   "nbconvert_exporter": "python",
   "pygments_lexer": "ipython3",
   "version": "3.10.12"
  }
 },
 "nbformat": 4,
 "nbformat_minor": 2
}
